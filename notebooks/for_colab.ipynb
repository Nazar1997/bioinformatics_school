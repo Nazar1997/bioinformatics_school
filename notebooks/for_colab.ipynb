{
  "nbformat": 4,
  "nbformat_minor": 0,
  "metadata": {
    "kernelspec": {
      "display_name": "Python 3",
      "language": "python",
      "name": "python3"
    },
    "language_info": {
      "codemirror_mode": {
        "name": "ipython",
        "version": 3
      },
      "file_extension": ".py",
      "mimetype": "text/x-python",
      "name": "python",
      "nbconvert_exporter": "python",
      "pygments_lexer": "ipython3",
      "version": "3.8.3"
    },
    "colab": {
      "name": "DL_model_trainig.ipynb",
      "provenance": []
    },
    "accelerator": "GPU"
  },
  "cells": [
    {
      "cell_type": "code",
      "metadata": {
        "id": "ie_V2E5Wbl5S"
      },
      "source": [
        "%%bash\n",
        "git clone https://github.com/Nazar1997/bioinformatics_school --recursive\n",
        "pip install biopython"
      ],
      "execution_count": null,
      "outputs": []
    },
    {
      "cell_type": "code",
      "metadata": {
        "id": "POgsZhMsbyD9"
      },
      "source": [
        "import pandas as pd\n",
        "from tqdm import tqdm_notebook, tqdm\n",
        "from collections import defaultdict\n",
        "import numpy as np\n",
        "import os\n",
        "from bioinformatics_school.notebooks.Sparse_vector.sparse_vector import SparseVector\n",
        "from joblib import load, dump, Parallel, delayed\n",
        "\n",
        "taget_antigen = ['DNase-seq', 'Histone', 'RNA polymerase', 'TFs and others']\n",
        "chroms = [f'chr3']"
      ],
      "execution_count": 6,
      "outputs": []
    },
    {
      "cell_type": "markdown",
      "metadata": {
        "id": "37K9tpUDpzCr"
      },
      "source": [
        "# DNA download"
      ]
    },
    {
      "cell_type": "code",
      "metadata": {
        "id": "atFg4MYtb3du"
      },
      "source": [
        "%%bash\n",
        "mkdir bioinformatics_school/data/mm9_dna\n",
        "mkdir bioinformatics_school/data/mm9_dna/raw\n",
        "mkdir bioinformatics_school/data/mm9_dna/sparse\n",
        "cd bioinformatics_school/data/mm9_dna/raw\n",
        "wget http://hgdownload.cse.ucsc.edu/goldenPath/mm9/chromosomes/chr3.fa.gz\n",
        "gzip -d chr3.fa.gz"
      ],
      "execution_count": null,
      "outputs": []
    },
    {
      "cell_type": "code",
      "metadata": {
        "colab": {
          "base_uri": "https://localhost:8080/"
        },
        "id": "hE4pue3jcCxx",
        "outputId": "579ae9a3-cd67-4a79-dacb-48e92ca968cb"
      },
      "source": [
        "from Bio import SeqIO\n",
        "\n",
        "for record in tqdm(SeqIO.parse(\"bioinformatics_school/data/mm9_dna/raw/chr3.fa\", \"fasta\")):\n",
        "    if record.id in chroms:\n",
        "        dump(str(record.seq.upper()), f\"bioinformatics_school/data/mm9_dna/sparse/{record.id}.pkl\", 3)"
      ],
      "execution_count": 11,
      "outputs": [
        {
          "output_type": "stream",
          "text": [
            "1it [00:07,  7.68s/it]\n"
          ],
          "name": "stderr"
        }
      ]
    },
    {
      "cell_type": "code",
      "metadata": {
        "id": "bKwMFZByqZxV",
        "outputId": "e8d7eef7-06fc-4ba5-b391-337ebfe28c6b",
        "colab": {
          "base_uri": "https://localhost:8080/"
        }
      },
      "source": [
        "dna = {chrom:load(f'bioinformatics_school/data/mm9_dna/sparse/{chrom}.pkl') for chrom in tqdm(chroms)}\n",
        "lens_of_chroms = {chrom: len(dna[chrom]) for chrom in dna}"
      ],
      "execution_count": 68,
      "outputs": [
        {
          "output_type": "stream",
          "text": [
            "100%|██████████| 1/1 [00:01<00:00,  1.12s/it]\n"
          ],
          "name": "stderr"
        }
      ]
    },
    {
      "cell_type": "markdown",
      "metadata": {
        "id": "tbOATRkmp2-K"
      },
      "source": [
        "# Target prepare"
      ]
    },
    {
      "cell_type": "code",
      "metadata": {
        "id": "uZLwkEw1cSLQ"
      },
      "source": [
        "def processor(file):\n",
        "    loc_dd = {chrm:SparseVector(lens_of_chroms[chrm]) for chrm in chroms}\n",
        "    df = pd.read_csv(f'bioinformatics_school/data/mm9_zdna/raw/{file}', sep='\\t', header=None)\n",
        "    for chrom, sub_df in tqdm(df.groupby(0)):\n",
        "        if chrom not in chroms:\n",
        "            continue\n",
        "        vec = np.zeros(lens_of_chroms[chrom])\n",
        "        for inter in sub_df.values:\n",
        "            vec[inter[1]:inter[2]+1] = np.maximum(vec[inter[1]:inter[2]+1], 1)\n",
        "        loc_dd[chrom] = SparseVector(vec)\n",
        "\n",
        "    dump(loc_dd, f'bioinformatics_school/data/mm9_zdna/sparse/{file[:-4]}.pkl', 3)"
      ],
      "execution_count": 69,
      "outputs": []
    },
    {
      "cell_type": "code",
      "metadata": {
        "id": "ZmFIAJtrqIjO",
        "outputId": "6324ef29-0102-4e5d-eed8-4db5d57636ea",
        "colab": {
          "base_uri": "https://localhost:8080/"
        }
      },
      "source": [
        "for file in os.listdir('bioinformatics_school/data/mm9_zdna/raw/'):\n",
        "    if file.startswith(\"zdna_\"):\n",
        "        processor(file)"
      ],
      "execution_count": 70,
      "outputs": [
        {
          "output_type": "stream",
          "text": [
            "100%|██████████| 27/27 [00:01<00:00, 15.36it/s]\n"
          ],
          "name": "stderr"
        }
      ]
    },
    {
      "cell_type": "code",
      "metadata": {
        "id": "6UAUZ6_WqNfe",
        "outputId": "eae0976b-ce04-47f9-bf0d-28038c9b3a90",
        "colab": {
          "base_uri": "https://localhost:8080/"
        }
      },
      "source": [
        "loc_dd = {chrm:SparseVector(lens_of_chroms[chrm]) for chrm in chroms}\n",
        "df = pd.read_csv('bioinformatics_school/data/mm9_zdna/raw/blacklist_mm9.bed', sep='\\t', header=None, names=range(3), index_col=False)\n",
        "for chrom, sub_df in tqdm(df.groupby(0)):\n",
        "    if chrom not in chroms:\n",
        "        continue\n",
        "    vec = np.zeros(lens_of_chroms[chrom])\n",
        "    for inter in sub_df.values:\n",
        "        vec[inter[1]:inter[2]+1] = np.maximum(vec[inter[1]:inter[2]+1], 1)\n",
        "    loc_dd[chrom] = SparseVector(vec)\n",
        "dump(loc_dd, f'bioinformatics_school/data/mm9_zdna/sparse/blacklist_mm9.pkl', 3)"
      ],
      "execution_count": 71,
      "outputs": [
        {
          "output_type": "stream",
          "text": [
            "100%|██████████| 24/24 [00:01<00:00, 21.66it/s]\n"
          ],
          "name": "stderr"
        },
        {
          "output_type": "execute_result",
          "data": {
            "text/plain": [
              "['bioinformatics_school/data/mm9_zdna/sparse/blacklist_mm9.pkl']"
            ]
          },
          "metadata": {},
          "execution_count": 71
        }
      ]
    },
    {
      "cell_type": "markdown",
      "metadata": {
        "id": "lyhL7UAjqPSc"
      },
      "source": [
        "# Model trainig"
      ]
    },
    {
      "cell_type": "code",
      "metadata": {
        "id": "JY02UJiDaGkW"
      },
      "source": [
        "import pandas as pd\n",
        "import numpy as np\n",
        "import scipy\n",
        "from tqdm import trange\n",
        "from tqdm import tqdm\n",
        "from datetime import datetime\n",
        "import sys\n",
        "import os\n",
        "import seaborn as sns\n",
        "from matplotlib import pyplot as plt\n",
        "from joblib import Parallel, delayed, dump, load\n",
        "from matplotlib import pyplot as plt\n",
        "\n",
        "import warnings\n",
        "warnings.filterwarnings(\"ignore\")\n",
        "\n",
        "# Choose visible device\n",
        "# os.environ['CUDA_VISIBLE_DEVICES'] = '3'\n",
        "# Select model number. From 0 to 4, as much as number of folds\n",
        "MODEL_NUMBER = 0"
      ],
      "execution_count": 12,
      "outputs": []
    },
    {
      "cell_type": "code",
      "metadata": {
        "id": "SuW2uHalbuUc"
      },
      "source": [
        ""
      ],
      "execution_count": null,
      "outputs": []
    },
    {
      "cell_type": "code",
      "metadata": {
        "id": "S_ci1WoKaGkY"
      },
      "source": [
        "chroms = [f'chr{i}' for i in list(range(1, 20)) + ['X', 'Y']]\n",
        "all_features = sorted([i[:-4] for i in os.listdir('bioinformatics_school/data/mm9_features/sparse/') if i.endswith('.pkl')])"
      ],
      "execution_count": 13,
      "outputs": []
    },
    {
      "cell_type": "code",
      "metadata": {
        "id": "fg8x4C3daGkZ"
      },
      "source": [
        "chroms = ['chr3']"
      ],
      "execution_count": 14,
      "outputs": []
    },
    {
      "cell_type": "code",
      "metadata": {
        "id": "4Ajo2ZYzaGkZ"
      },
      "source": [
        "groups = ['DNase-seq', 'Histone', 'RNA polymerase', 'TFs and others']\n",
        "groups = ['Histone', 'RNA polymerase', 'TFs and others']\n",
        "feature_names = [i for i in all_features if (i.split('_')[0] in groups)]\n"
      ],
      "execution_count": 15,
      "outputs": []
    },
    {
      "cell_type": "code",
      "metadata": {
        "id": "NQObfTIQeFVB"
      },
      "source": [
        "import sys\n",
        "sys.path.append('./bioinformatics_school/notebooks/')"
      ],
      "execution_count": 19,
      "outputs": []
    },
    {
      "cell_type": "code",
      "metadata": {
        "id": "0qQmvRoocqbs"
      },
      "source": [
        "import Sparse_vector"
      ],
      "execution_count": 20,
      "outputs": []
    },
    {
      "cell_type": "code",
      "metadata": {
        "id": "cHSHcx5WaGkZ"
      },
      "source": [
        "ZDNA = load(f'bioinformatics_school/data/mm9_zdna/sparse/zdna_mm9.pkl')\n",
        "black_list = load(f'bioinformatics_school/data/mm9_zdna/sparse/blacklist_mm9.pkl')"
      ],
      "execution_count": 21,
      "outputs": []
    },
    {
      "cell_type": "code",
      "metadata": {
        "colab": {
          "base_uri": "https://localhost:8080/"
        },
        "id": "IXU9Ho6VaGka",
        "outputId": "56a02767-bb66-4330-d858-346c9849d0fc"
      },
      "source": [
        "%%time\n",
        "# load all the data\n",
        "DNA = {chrom:load(f'bioinformatics_school/data/mm9_dna/sparse/{chrom}.pkl') for chrom in tqdm(chroms)}\n",
        "\n",
        "DNA_features = {feture: load(f'bioinformatics_school/data/mm9_features/sparse/{feture}.pkl')\n",
        "                for feture in tqdm(feature_names)}"
      ],
      "execution_count": 23,
      "outputs": [
        {
          "output_type": "stream",
          "text": [
            "\n",
            "  0%|          | 0/1 [00:00<?, ?it/s]\u001b[A\n",
            "100%|██████████| 1/1 [00:01<00:00,  1.01s/it]\n",
            "\n",
            "  0%|          | 0/871 [00:00<?, ?it/s]\u001b[A\n",
            "  6%|▌         | 54/871 [00:00<00:01, 495.85it/s]\u001b[A\n",
            " 12%|█▏        | 104/871 [00:00<00:01, 473.50it/s]\u001b[A\n",
            " 21%|██        | 185/871 [00:00<00:01, 617.94it/s]\u001b[A\n",
            " 30%|██▉       | 260/871 [00:00<00:00, 667.75it/s]\u001b[A\n",
            " 38%|███▊      | 328/871 [00:00<00:00, 644.62it/s]\u001b[A\n",
            " 48%|████▊     | 414/871 [00:00<00:00, 713.76it/s]\u001b[A\n",
            " 57%|█████▋    | 496/871 [00:00<00:00, 747.05it/s]\u001b[A\n",
            " 66%|██████▋   | 578/871 [00:00<00:00, 765.45it/s]\u001b[A\n",
            " 75%|███████▌  | 655/871 [00:00<00:00, 766.43it/s]\u001b[A\n",
            " 84%|████████▍ | 732/871 [00:01<00:00, 749.81it/s]\u001b[A\n",
            "100%|██████████| 871/871 [00:01<00:00, 723.50it/s]"
          ],
          "name": "stderr"
        },
        {
          "output_type": "stream",
          "text": [
            "CPU times: user 2.05 s, sys: 150 ms, total: 2.2 s\n",
            "Wall time: 2.25 s\n"
          ],
          "name": "stdout"
        },
        {
          "output_type": "stream",
          "text": [
            "\n"
          ],
          "name": "stderr"
        }
      ]
    },
    {
      "cell_type": "code",
      "metadata": {
        "colab": {
          "base_uri": "https://localhost:8080/"
        },
        "id": "iXGDNpITaGkb",
        "outputId": "7f997e0a-d76f-4153-86d9-8a09a1fc8097"
      },
      "source": [
        "for feature in tqdm(DNA_features):\n",
        "    if set(DNA_features[feature].keys()) != set(chroms):\n",
        "        for chrom in chroms:\n",
        "            if chrom not in DNA_features[feature]:\n",
        "                DNA_features[feature][chrom] = SparseVector(len(DNA[chrom]))"
      ],
      "execution_count": 24,
      "outputs": [
        {
          "output_type": "stream",
          "text": [
            "\n",
            "100%|██████████| 871/871 [00:00<00:00, 295282.80it/s]\n"
          ],
          "name": "stderr"
        }
      ]
    },
    {
      "cell_type": "markdown",
      "metadata": {
        "id": "f5OlXZ22aGkb"
      },
      "source": [
        "# DL code"
      ]
    },
    {
      "cell_type": "code",
      "metadata": {
        "id": "6frFSRw1aGkc"
      },
      "source": [
        "import torch\n",
        "from torch.utils import data\n",
        "from sklearn.preprocessing import LabelBinarizer\n",
        "from sklearn.model_selection import train_test_split, StratifiedKFold"
      ],
      "execution_count": 25,
      "outputs": []
    },
    {
      "cell_type": "code",
      "metadata": {
        "id": "4zWSPnwcaGkc"
      },
      "source": [
        "class Dataset(data.Dataset):\n",
        "    def __init__(self, chroms, features, \n",
        "                 dna_source, features_source, \n",
        "                 labels_source, intervals):\n",
        "        self.chroms = chroms\n",
        "        self.features = features\n",
        "        self.dna_source = dna_source\n",
        "        self.features_source = features_source\n",
        "        self.labels_source = labels_source\n",
        "        self.intervals = intervals\n",
        "        self.le = LabelBinarizer().fit(np.array([[\"A\"], [\"C\"], [\"T\"], [\"G\"]]))\n",
        "        zhunt = \"\"\"CG 0.7 4.0 4.0 4.0\n",
        "GC 4.0 0.7 4.0 4.0\n",
        "CA 1.3 4.6 4.5 4.5\n",
        "AC 4.6 1.3 4.5 4.5\n",
        "TG 1.3 4.6 4.5 4.5\n",
        "GT 4.6 1.3 4.5 4.5\n",
        "TA 2.5 5.9 5.6 5.6\n",
        "AT 5.9 2.5 5.6 5.6\n",
        "CC 2.4 2.4 4.0 4.0\n",
        "GG 2.4 2.4 4.0 4.0\n",
        "CT 3.4 3.4 6.3 6.3\n",
        "TC 3.4 3.4 6.3 6.3\n",
        "GA 3.4 3.4 6.3 6.3\n",
        "AG 3.4 3.4 6.3 6.3\n",
        "AA 3.9 3.9 7.4 7.4\n",
        "TT 3.9 3.9 7.4 7.4\"\"\"\n",
        "        ZHUNT_AS = {line.split(' ')[0]:float(line.split(' ')[1]) \n",
        "              for line in zhunt.split('\\n')}\n",
        "        ZHUNT_SA = {line.split(' ')[0]:float(line.split(' ')[2]) \n",
        "              for line in zhunt.split('\\n')}\n",
        "        ZHUNT_ASd= {line.split(' ')[0]:float(line.split(' ')[3]) \n",
        "              for line in zhunt.split('\\n')}\n",
        "        ZHUNT_SAd= {line.split(' ')[0]:float(line.split(' ')[4]) \n",
        "              for line in zhunt.split('\\n')}\n",
        "        self.configs = {\"ZHUNT_AS\":ZHUNT_AS,\n",
        "                       \"ZHUNT_SA\":ZHUNT_SA,\n",
        "                       \"ZHUNT_ASd\":ZHUNT_ASd,\n",
        "                       \"ZHUNT_SAd\":ZHUNT_SAd}\n",
        "        \n",
        "    def __len__(self):\n",
        "        return len(self.intervals)\n",
        "    \n",
        "    def __getitem__(self, index):\n",
        "        interval = self.intervals[index]\n",
        "        chrom = interval[0]\n",
        "        begin = int(interval[1])\n",
        "        end = int(interval[2])\n",
        "        \n",
        "        ll = list(self.dna_source[chrom][begin:end].upper())\n",
        "        dna_OHE = self.le.transform(ll)\n",
        "        \n",
        "        zhunts = []\n",
        "        for key in self.configs:\n",
        "            vec = np.array(ll)\n",
        "            vec = np.vectorize(lambda x:self.configs[key].get(x, 0))(\n",
        "                                    np.char.add(vec[1:], vec[:-1]))\n",
        "            zhunts.append(np.concatenate([vec, [0]]))\n",
        "        \n",
        "        \n",
        "        \n",
        "        feature_matr = []\n",
        "        for feature in self.features:\n",
        "            source = self.features_source[feature]\n",
        "            feature_matr.append(source[chrom][begin:end])\n",
        "            \n",
        "        if len(feature_matr) > 0:\n",
        "            X = np.hstack((dna_OHE, \n",
        "                           np.array(zhunts).T,\n",
        "                           np.array(feature_matr).T/1000)).astype(np.float32)\n",
        "        else:\n",
        "            X = dna_OHE.astype(np.float32)\n",
        "        y = self.labels_source[interval[0]][interval[1]: interval[2]]\n",
        "        \n",
        "        \n",
        "        \n",
        "        return (X, y)\n",
        "        \n",
        "        "
      ],
      "execution_count": 26,
      "outputs": []
    },
    {
      "cell_type": "code",
      "metadata": {
        "colab": {
          "base_uri": "https://localhost:8080/"
        },
        "id": "BCH9gfgKaGkd",
        "outputId": "a7ee6c32-ddfc-4872-d6f8-9669352270ca"
      },
      "source": [
        "width = 5000\n",
        "\n",
        "np.random.seed(10)\n",
        "\n",
        "ints_in = []\n",
        "ints_out = []\n",
        "\n",
        "\n",
        "for chrm in chroms:\n",
        "    for st in trange(0, ZDNA[chrm].shape - width, width):\n",
        "        interval = [st, min(st + width, ZDNA[chrm].shape)]\n",
        "        N_count = sum([bp == \"N\" for bp in DNA[chrm][interval[0]:interval[1]]])\n",
        "        bl_count = black_list[chrm][interval[0]:interval[1]].sum()\n",
        "        if N_count > width / 2 or bl_count > 0:\n",
        "            continue\n",
        "        else:\n",
        "            if ZDNA[chrm][interval[0]: interval[1]].any():\n",
        "                ints_in.append([chrm, interval[0], interval[1]])\n",
        "            else:\n",
        "                ints_out.append([chrm, interval[0], interval[1]])\n",
        "\n",
        "\n",
        "                \n",
        "                \n",
        "print(len(ints_in))\n",
        "print(len(ints_out))\n"
      ],
      "execution_count": 27,
      "outputs": [
        {
          "output_type": "stream",
          "text": [
            "\n",
            "  0%|          | 0/31919 [00:00<?, ?it/s]\u001b[A\n",
            "  1%|          | 195/31919 [00:00<00:16, 1943.25it/s]\u001b[A\n",
            "  1%|          | 390/31919 [00:00<00:17, 1776.26it/s]\u001b[A\n",
            "  2%|▏         | 569/31919 [00:00<00:17, 1742.59it/s]\u001b[A\n",
            "  2%|▏         | 744/31919 [00:00<00:18, 1729.05it/s]\u001b[A\n",
            "  3%|▎         | 929/31919 [00:00<00:17, 1770.54it/s]\u001b[A\n",
            "  3%|▎         | 1110/31919 [00:00<00:17, 1782.50it/s]\u001b[A\n",
            "  4%|▍         | 1305/31919 [00:00<00:16, 1835.59it/s]\u001b[A\n",
            "  5%|▍         | 1493/31919 [00:00<00:16, 1849.24it/s]\u001b[A\n",
            "  5%|▌         | 1679/31919 [00:00<00:17, 1722.96it/s]\u001b[A\n",
            "  6%|▌         | 1855/31919 [00:01<00:17, 1733.55it/s]\u001b[A\n",
            "  6%|▋         | 2030/31919 [00:01<00:17, 1725.68it/s]\u001b[A\n",
            "  7%|▋         | 2221/31919 [00:01<00:16, 1778.67it/s]\u001b[A\n",
            "  8%|▊         | 2409/31919 [00:01<00:16, 1806.32it/s]\u001b[A\n",
            "  8%|▊         | 2598/31919 [00:01<00:16, 1830.16it/s]\u001b[A\n",
            "  9%|▊         | 2782/31919 [00:01<00:15, 1824.59it/s]\u001b[A\n",
            "  9%|▉         | 2986/31919 [00:01<00:15, 1886.64it/s]\u001b[A\n",
            " 10%|▉         | 3175/31919 [00:01<00:16, 1778.51it/s]\u001b[A\n",
            " 11%|█         | 3355/31919 [00:01<00:16, 1748.91it/s]\u001b[A\n",
            " 11%|█         | 3531/31919 [00:01<00:16, 1744.61it/s]\u001b[A\n",
            " 12%|█▏        | 3733/31919 [00:02<00:15, 1823.33it/s]\u001b[A\n",
            " 12%|█▏        | 3917/31919 [00:02<00:15, 1815.85it/s]\u001b[A\n",
            " 13%|█▎        | 4100/31919 [00:02<00:15, 1779.22it/s]\u001b[A\n",
            " 13%|█▎        | 4279/31919 [00:02<00:15, 1756.52it/s]\u001b[A\n",
            " 14%|█▍        | 4455/31919 [00:02<00:15, 1722.80it/s]\u001b[A\n",
            " 15%|█▍        | 4648/31919 [00:02<00:15, 1779.51it/s]\u001b[A\n",
            " 15%|█▌        | 4827/31919 [00:02<00:15, 1782.11it/s]\u001b[A\n",
            " 16%|█▌        | 5030/31919 [00:02<00:14, 1854.38it/s]\u001b[A\n",
            " 16%|█▋        | 5220/31919 [00:02<00:14, 1864.51it/s]\u001b[A\n",
            " 17%|█▋        | 5407/31919 [00:03<00:14, 1792.39it/s]\u001b[A\n",
            " 18%|█▊        | 5593/31919 [00:03<00:14, 1810.96it/s]\u001b[A\n",
            " 18%|█▊        | 5785/31919 [00:03<00:14, 1842.21it/s]\u001b[A\n",
            " 19%|█▊        | 5970/31919 [00:03<00:14, 1834.05it/s]\u001b[A\n",
            " 19%|█▉        | 6154/31919 [00:03<00:14, 1828.35it/s]\u001b[A\n",
            " 20%|█▉        | 6343/31919 [00:03<00:13, 1842.37it/s]\u001b[A\n",
            " 20%|██        | 6528/31919 [00:03<00:14, 1791.95it/s]\u001b[A\n",
            " 21%|██        | 6708/31919 [00:03<00:14, 1783.98it/s]\u001b[A\n",
            " 22%|██▏       | 6892/31919 [00:03<00:13, 1795.02it/s]\u001b[A\n",
            " 22%|██▏       | 7072/31919 [00:03<00:14, 1744.62it/s]\u001b[A\n",
            " 23%|██▎       | 7265/31919 [00:04<00:13, 1797.51it/s]\u001b[A\n",
            " 23%|██▎       | 7446/31919 [00:04<00:13, 1780.01it/s]\u001b[A\n",
            " 24%|██▍       | 7625/31919 [00:04<00:14, 1697.87it/s]\u001b[A\n",
            " 24%|██▍       | 7802/31919 [00:04<00:14, 1717.27it/s]\u001b[A\n",
            " 25%|██▌       | 8007/31919 [00:04<00:13, 1811.64it/s]\u001b[A\n",
            " 26%|██▌       | 8202/31919 [00:04<00:12, 1851.60it/s]\u001b[A\n",
            " 26%|██▋       | 8388/31919 [00:04<00:12, 1849.01it/s]\u001b[A\n",
            " 27%|██▋       | 8591/31919 [00:04<00:12, 1901.46it/s]\u001b[A\n",
            " 28%|██▊       | 8786/31919 [00:04<00:12, 1914.26it/s]\u001b[A\n",
            " 28%|██▊       | 8978/31919 [00:04<00:12, 1801.47it/s]\u001b[A\n",
            " 29%|██▊       | 9160/31919 [00:05<00:13, 1722.92it/s]\u001b[A\n",
            " 29%|██▉       | 9359/31919 [00:05<00:12, 1795.88it/s]\u001b[A\n",
            " 30%|██▉       | 9565/31919 [00:05<00:11, 1869.79it/s]\u001b[A\n",
            " 31%|███       | 9761/31919 [00:05<00:11, 1892.64it/s]\u001b[A\n",
            " 31%|███       | 9952/31919 [00:05<00:12, 1823.61it/s]\u001b[A\n",
            " 32%|███▏      | 10149/31919 [00:05<00:11, 1863.56it/s]\u001b[A\n",
            " 32%|███▏      | 10343/31919 [00:05<00:11, 1885.33it/s]\u001b[A\n",
            " 33%|███▎      | 10533/31919 [00:05<00:11, 1888.90it/s]\u001b[A\n",
            " 34%|███▎      | 10730/31919 [00:05<00:11, 1912.46it/s]\u001b[A\n",
            " 34%|███▍      | 10922/31919 [00:06<00:11, 1808.02it/s]\u001b[A\n",
            " 35%|███▍      | 11105/31919 [00:06<00:11, 1784.06it/s]\u001b[A\n",
            " 35%|███▌      | 11290/31919 [00:06<00:11, 1800.76it/s]\u001b[A\n",
            " 36%|███▌      | 11475/31919 [00:06<00:11, 1812.71it/s]\u001b[A\n",
            " 37%|███▋      | 11672/31919 [00:06<00:10, 1856.58it/s]\u001b[A\n",
            " 37%|███▋      | 11861/31919 [00:06<00:10, 1862.93it/s]\u001b[A\n",
            " 38%|███▊      | 12048/31919 [00:06<00:10, 1858.95it/s]\u001b[A\n",
            " 38%|███▊      | 12235/31919 [00:06<00:10, 1790.05it/s]\u001b[A\n",
            " 39%|███▉      | 12431/31919 [00:06<00:10, 1837.53it/s]\u001b[A\n",
            " 40%|███▉      | 12633/31919 [00:06<00:10, 1888.42it/s]\u001b[A\n",
            " 40%|████      | 12823/31919 [00:07<00:10, 1849.34it/s]\u001b[A\n",
            " 41%|████      | 13009/31919 [00:07<00:10, 1806.92it/s]\u001b[A\n",
            " 41%|████▏     | 13191/31919 [00:07<00:10, 1796.25it/s]\u001b[A\n",
            " 42%|████▏     | 13371/31919 [00:07<00:10, 1776.75it/s]\u001b[A\n",
            " 42%|████▏     | 13555/31919 [00:07<00:10, 1792.32it/s]\u001b[A\n",
            " 43%|████▎     | 13747/31919 [00:07<00:09, 1829.07it/s]\u001b[A\n",
            " 44%|████▎     | 13935/31919 [00:07<00:09, 1842.37it/s]\u001b[A\n",
            " 44%|████▍     | 14120/31919 [00:07<00:09, 1786.09it/s]\u001b[A\n",
            " 45%|████▍     | 14300/31919 [00:07<00:09, 1787.31it/s]\u001b[A\n",
            " 45%|████▌     | 14480/31919 [00:08<00:10, 1742.30it/s]\u001b[A\n",
            " 46%|████▌     | 14690/31919 [00:08<00:09, 1843.73it/s]\u001b[A\n",
            " 47%|████▋     | 14889/31919 [00:08<00:09, 1882.84it/s]\u001b[A\n",
            " 47%|████▋     | 15078/31919 [00:08<00:09, 1808.79it/s]\u001b[A\n",
            " 48%|████▊     | 15276/31919 [00:08<00:08, 1854.42it/s]\u001b[A\n",
            " 48%|████▊     | 15463/31919 [00:08<00:09, 1825.90it/s]\u001b[A\n",
            " 49%|████▉     | 15654/31919 [00:08<00:08, 1848.58it/s]\u001b[A\n",
            " 50%|████▉     | 15840/31919 [00:08<00:09, 1786.41it/s]\u001b[A\n",
            " 50%|█████     | 16020/31919 [00:08<00:08, 1788.70it/s]\u001b[A\n",
            " 51%|█████     | 16221/31919 [00:08<00:08, 1852.05it/s]\u001b[A\n",
            " 51%|█████▏    | 16407/31919 [00:09<00:08, 1808.66it/s]\u001b[A\n",
            " 52%|█████▏    | 16589/31919 [00:09<00:08, 1791.29it/s]\u001b[A\n",
            " 53%|█████▎    | 16769/31919 [00:09<00:08, 1724.18it/s]\u001b[A\n",
            " 53%|█████▎    | 16943/31919 [00:09<00:08, 1721.49it/s]\u001b[A\n",
            " 54%|█████▎    | 17128/31919 [00:09<00:08, 1757.20it/s]\u001b[A\n",
            " 54%|█████▍    | 17315/31919 [00:09<00:08, 1789.33it/s]\u001b[A\n",
            " 55%|█████▍    | 17495/31919 [00:09<00:08, 1718.88it/s]\u001b[A\n",
            " 55%|█████▌    | 17699/31919 [00:09<00:07, 1809.16it/s]\u001b[A\n",
            " 56%|█████▌    | 17895/31919 [00:09<00:07, 1850.99it/s]\u001b[A\n",
            " 57%|█████▋    | 18093/31919 [00:09<00:07, 1888.31it/s]\u001b[A\n",
            " 57%|█████▋    | 18283/31919 [00:10<00:07, 1862.88it/s]\u001b[A\n",
            " 58%|█████▊    | 18470/31919 [00:10<00:07, 1773.18it/s]\u001b[A\n",
            " 58%|█████▊    | 18650/31919 [00:10<00:07, 1780.12it/s]\u001b[A\n",
            " 59%|█████▉    | 18852/31919 [00:10<00:07, 1848.49it/s]\u001b[A\n",
            " 60%|█████▉    | 19038/31919 [00:10<00:06, 1845.96it/s]\u001b[A\n",
            " 60%|██████    | 19244/31919 [00:10<00:06, 1907.49it/s]\u001b[A\n",
            " 61%|██████    | 19439/31919 [00:10<00:06, 1919.43it/s]\u001b[A\n",
            " 62%|██████▏   | 19634/31919 [00:10<00:06, 1925.79it/s]\u001b[A\n",
            " 62%|██████▏   | 19848/31919 [00:10<00:06, 1987.80it/s]\u001b[A\n",
            " 63%|██████▎   | 20048/31919 [00:11<00:06, 1947.98it/s]\u001b[A\n",
            " 63%|██████▎   | 20244/31919 [00:11<00:06, 1923.32it/s]\u001b[A\n",
            " 64%|██████▍   | 20439/31919 [00:11<00:05, 1929.09it/s]\u001b[A\n",
            " 65%|██████▍   | 20633/31919 [00:11<00:06, 1874.63it/s]\u001b[A\n",
            " 65%|██████▌   | 20825/31919 [00:11<00:05, 1885.98it/s]\u001b[A\n",
            " 66%|██████▌   | 21014/31919 [00:11<00:05, 1875.00it/s]\u001b[A\n",
            " 66%|██████▋   | 21223/31919 [00:11<00:05, 1935.95it/s]\u001b[A\n",
            " 67%|██████▋   | 21428/31919 [00:11<00:05, 1966.87it/s]\u001b[A\n",
            " 68%|██████▊   | 21625/31919 [00:11<00:05, 1880.96it/s]\u001b[A\n",
            " 68%|██████▊   | 21824/31919 [00:11<00:05, 1909.97it/s]\u001b[A\n",
            " 69%|██████▉   | 22016/31919 [00:12<00:05, 1801.11it/s]\u001b[A\n",
            " 70%|██████▉   | 22212/31919 [00:12<00:05, 1845.31it/s]\u001b[A\n",
            " 70%|███████   | 22417/31919 [00:12<00:04, 1903.27it/s]\u001b[A\n",
            " 71%|███████   | 22609/31919 [00:12<00:04, 1899.49it/s]\u001b[A\n",
            " 71%|███████▏  | 22800/31919 [00:12<00:04, 1902.04it/s]\u001b[A\n",
            " 72%|███████▏  | 23000/31919 [00:12<00:04, 1930.29it/s]\u001b[A\n",
            " 73%|███████▎  | 23194/31919 [00:12<00:04, 1905.16it/s]\u001b[A\n",
            " 73%|███████▎  | 23390/31919 [00:12<00:04, 1920.27it/s]\u001b[A\n",
            " 74%|███████▍  | 23587/31919 [00:12<00:04, 1934.64it/s]\u001b[A\n",
            " 75%|███████▍  | 23781/31919 [00:13<00:04, 1906.62it/s]\u001b[A\n",
            " 75%|███████▌  | 23972/31919 [00:13<00:04, 1842.38it/s]\u001b[A\n",
            " 76%|███████▌  | 24157/31919 [00:13<00:04, 1825.08it/s]\u001b[A\n",
            " 76%|███████▋  | 24340/31919 [00:13<00:04, 1666.32it/s]\u001b[A\n",
            " 77%|███████▋  | 24517/31919 [00:13<00:04, 1693.13it/s]\u001b[A\n",
            " 77%|███████▋  | 24693/31919 [00:13<00:04, 1710.61it/s]\u001b[A\n",
            " 78%|███████▊  | 24885/31919 [00:13<00:03, 1769.49it/s]\u001b[A\n",
            " 79%|███████▊  | 25076/31919 [00:13<00:03, 1809.50it/s]\u001b[A\n",
            " 79%|███████▉  | 25260/31919 [00:13<00:03, 1816.91it/s]\u001b[A\n",
            " 80%|███████▉  | 25456/31919 [00:13<00:03, 1858.49it/s]\u001b[A\n",
            " 80%|████████  | 25648/31919 [00:14<00:03, 1876.04it/s]\u001b[A\n",
            " 81%|████████  | 25837/31919 [00:14<00:03, 1794.92it/s]\u001b[A\n",
            " 82%|████████▏ | 26018/31919 [00:14<00:03, 1755.32it/s]\u001b[A\n",
            " 82%|████████▏ | 26204/31919 [00:14<00:03, 1782.95it/s]\u001b[A\n",
            " 83%|████████▎ | 26383/31919 [00:14<00:03, 1762.47it/s]\u001b[A\n",
            " 83%|████████▎ | 26560/31919 [00:14<00:03, 1743.64it/s]\u001b[A\n",
            " 84%|████████▍ | 26739/31919 [00:14<00:02, 1756.70it/s]\u001b[A\n",
            " 84%|████████▍ | 26915/31919 [00:14<00:02, 1740.79it/s]\u001b[A\n",
            " 85%|████████▍ | 27096/31919 [00:14<00:02, 1759.79it/s]\u001b[A\n",
            " 85%|████████▌ | 27286/31919 [00:14<00:02, 1800.51it/s]\u001b[A\n",
            " 86%|████████▌ | 27467/31919 [00:15<00:02, 1785.75it/s]\u001b[A\n",
            " 87%|████████▋ | 27646/31919 [00:15<00:02, 1746.98it/s]\u001b[A\n",
            " 87%|████████▋ | 27821/31919 [00:15<00:02, 1688.01it/s]\u001b[A\n",
            " 88%|████████▊ | 27998/31919 [00:15<00:02, 1708.66it/s]\u001b[A\n",
            " 88%|████████▊ | 28178/31919 [00:15<00:02, 1732.52it/s]\u001b[A\n",
            " 89%|████████▉ | 28365/31919 [00:15<00:02, 1771.78it/s]\u001b[A\n",
            " 89%|████████▉ | 28560/31919 [00:15<00:01, 1822.35it/s]\u001b[A\n",
            " 90%|█████████ | 28743/31919 [00:15<00:01, 1788.54it/s]\u001b[A\n",
            " 91%|█████████ | 28923/31919 [00:15<00:01, 1729.26it/s]\u001b[A\n",
            " 91%|█████████ | 29101/31919 [00:16<00:01, 1742.11it/s]\u001b[A\n",
            " 92%|█████████▏| 29276/31919 [00:16<00:01, 1724.38it/s]\u001b[A\n",
            " 92%|█████████▏| 29452/31919 [00:16<00:01, 1733.89it/s]\u001b[A\n",
            " 93%|█████████▎| 29634/31919 [00:16<00:01, 1758.24it/s]\u001b[A\n",
            " 93%|█████████▎| 29815/31919 [00:16<00:01, 1769.45it/s]\u001b[A\n",
            " 94%|█████████▍| 29993/31919 [00:16<00:01, 1694.08it/s]\u001b[A\n",
            " 95%|█████████▍| 30180/31919 [00:16<00:00, 1744.25it/s]\u001b[A\n",
            " 95%|█████████▌| 30363/31919 [00:16<00:00, 1768.79it/s]\u001b[A\n",
            " 96%|█████████▌| 30541/31919 [00:16<00:00, 1765.81it/s]\u001b[A\n",
            " 96%|█████████▌| 30718/31919 [00:16<00:00, 1625.81it/s]\u001b[A\n",
            " 97%|█████████▋| 30883/31919 [00:17<00:00, 1526.06it/s]\u001b[A\n",
            " 97%|█████████▋| 31040/31919 [00:17<00:00, 1537.62it/s]\u001b[A\n",
            " 98%|█████████▊| 31231/31919 [00:17<00:00, 1640.84it/s]\u001b[A\n",
            " 98%|█████████▊| 31414/31919 [00:17<00:00, 1693.86it/s]\u001b[A\n",
            " 99%|█████████▉| 31602/31919 [00:17<00:00, 1746.18it/s]\u001b[A\n",
            "100%|██████████| 31919/31919 [00:17<00:00, 1804.99it/s]"
          ],
          "name": "stderr"
        },
        {
          "output_type": "stream",
          "text": [
            "86\n",
            "29549\n"
          ],
          "name": "stdout"
        },
        {
          "output_type": "stream",
          "text": [
            "\n"
          ],
          "name": "stderr"
        }
      ]
    },
    {
      "cell_type": "code",
      "metadata": {
        "colab": {
          "base_uri": "https://localhost:8080/"
        },
        "id": "Duq6Yr2LaGkd",
        "outputId": "6d3e0572-5dfe-4b68-937d-565de8210707"
      },
      "source": [
        "np.random.seed(42)\n",
        "\n",
        "ints_in = np.array(ints_in)\n",
        "ints_out = np.array(ints_out)[np.random.choice(range(len(ints_out)), \n",
        "                                                          size=len(ints_in) * 3, replace=False)]\n",
        "\n",
        "print(len(ints_in))\n",
        "print(len(ints_out))"
      ],
      "execution_count": 28,
      "outputs": [
        {
          "output_type": "stream",
          "text": [
            "86\n",
            "258\n"
          ],
          "name": "stdout"
        }
      ]
    },
    {
      "cell_type": "code",
      "metadata": {
        "id": "g2vK6UpNaGkd"
      },
      "source": [
        "dna_lens = {i:len(DNA[i])for i in DNA}"
      ],
      "execution_count": 29,
      "outputs": []
    },
    {
      "cell_type": "code",
      "metadata": {
        "id": "px4rSyHPaGke"
      },
      "source": [
        "ints_out = [i for i in ints_out if (int(i[1]) < dna_lens[i[0]]) and (int(i[2]) < dna_lens[i[0]])]"
      ],
      "execution_count": 30,
      "outputs": []
    },
    {
      "cell_type": "code",
      "metadata": {
        "id": "87UE_yMhaGke"
      },
      "source": [
        "equalized = np.vstack((ints_in, ints_out))\n",
        "equalized = [[inter[0], int(inter[1]), int(inter[2])] for inter in equalized]"
      ],
      "execution_count": 31,
      "outputs": []
    },
    {
      "cell_type": "code",
      "metadata": {
        "id": "QlAvAVxraGke"
      },
      "source": [
        "divisions = list(StratifiedKFold(5, shuffle=True, \n",
        "                                 random_state=42).split(equalized, [f\"{int(i < len(ints_in))}_{elem[0]}\"\n",
        "                                         for i, elem \n",
        "                                         in enumerate(equalized)]))"
      ],
      "execution_count": 32,
      "outputs": []
    },
    {
      "cell_type": "code",
      "metadata": {
        "id": "BhJ6WNUSaGke"
      },
      "source": [
        "train_inds, test_inds = divisions[MODEL_NUMBER]\n",
        "\n",
        "\n",
        "train_intervals, test_intervals = [equalized[i] for i in train_inds], [equalized[i] for i in test_inds]\n",
        "\n",
        "train_dataset = Dataset(chroms, feature_names, \n",
        "                       DNA, DNA_features, \n",
        "                       ZDNA, train_intervals)\n",
        "\n",
        "test_dataset = Dataset(chroms, feature_names, \n",
        "                       DNA, DNA_features, \n",
        "                       ZDNA, test_intervals)"
      ],
      "execution_count": 33,
      "outputs": []
    },
    {
      "cell_type": "code",
      "metadata": {
        "id": "8v4AkI1UaGkf"
      },
      "source": [
        "from torch import nn\n",
        "import torch.nn.functional as F\n",
        "from sklearn.metrics import roc_auc_score, f1_score\n",
        "from IPython.display import clear_output\n",
        "\n",
        "class DeepZ(nn.Module):\n",
        "    def __init__(self):\n",
        "        super().__init__()\n",
        "        self.rnn = nn.LSTM(879, 100, 1, bidirectional=True)\n",
        "        self.seq = nn.Sequential(\n",
        "                nn.Linear(2 * 100, 100),\n",
        "                nn.Sigmoid(),\n",
        "                nn.Dropout(0.25),\n",
        "                nn.Linear(100, 2)\n",
        "        )\n",
        "    \n",
        "    def forward(self, x):\n",
        "        x, (h_n, c_n) = self.rnn(x)\n",
        "        x = self.seq(x)\n",
        "        return F.log_softmax(x, dim=-1)"
      ],
      "execution_count": 40,
      "outputs": []
    },
    {
      "cell_type": "code",
      "metadata": {
        "id": "fLFSPkW2aGkf"
      },
      "source": [
        "params = {'batch_size':30,\n",
        "          'num_workers':5,\n",
        "          'shuffle':True}\n",
        "\n",
        "loader_train = data.DataLoader(train_dataset, **params)\n",
        "loader_test = data.DataLoader(test_dataset, **params)\n",
        "\n",
        "\n",
        "train_log, train_acc_log, train_auc_log, train_f1_log = [], [], [], []\n",
        "val_log,   val_acc_log,   val_auc_log, val_f1_log   = [], [], [], []\n",
        "# best_auc = 0\n",
        "# log = open(f\"../models/{ASSEMBLY}/log_{MODEL_NUMBER}\", 'w')\n",
        "# log.write(datetime.now().strftime(\"%d/%m/%Y %H:%M:%S\") + \"\\n\")\n",
        "# log.close()\n",
        "    \n",
        "def loss_func(output, y_batch):\n",
        "    return torch.nn.NLLLoss()(torch.transpose(output, 2, 1), y_batch)\n",
        "\n",
        "def train_epoch(model, optimizer):\n",
        "    loss_log, acc_log, roc_auc_log, f1_log = [], [], [], []\n",
        "    model.train()\n",
        "    for X_batch, y_batch in tqdm(loader_train):\n",
        "        X_batch, y_batch = X_batch.cuda(), y_batch.cuda().long()\n",
        "        optimizer.zero_grad()\n",
        "        output = model(X_batch)\n",
        "        pred = torch.argmax(output, dim=2)\n",
        "        y_pred = nn.Softmax(dim=1)(output)[:, :,1].detach().cpu().numpy().flatten()\n",
        "        if np.std(y_batch.cpu().numpy().flatten()) == 0:\n",
        "            roc_auc = 0\n",
        "        else:\n",
        "            roc_auc = roc_auc_score(y_batch.cpu().numpy().flatten(),\n",
        "                                    nn.Softmax(dim=1)(output)[:, :,1].detach().cpu().numpy().flatten())\n",
        "        f1_log.append(f1_score(y_batch.cpu().numpy().flatten(),\n",
        "                         pred.cpu().numpy().flatten()))\n",
        "        roc_auc_log.append(roc_auc)\n",
        "        acc = torch.mean((pred == y_batch).float())\n",
        "        acc_log.append(acc.cpu().numpy())\n",
        "        loss = loss_func(output, y_batch)\n",
        "        loss.backward()\n",
        "        optimizer.step()\n",
        "        loss = loss.item()\n",
        "        loss_log.append(loss)\n",
        "    return loss_log, acc_log, roc_auc_log, f1_log\n",
        "\n",
        "def test(model):\n",
        "    loss_log, acc_log, roc_auc_log, f1_log = [], [], [], []\n",
        "    model.eval()\n",
        "    means = []\n",
        "    for X_batch, y_batch in tqdm(loader_test):\n",
        "        X_batch, y_batch = X_batch.cuda(), y_batch.cuda().long()\n",
        "        output = model(X_batch)\n",
        "        means.append(y_batch.sum().cpu() / (1.0 * y_batch.shape[0]))\n",
        "        pred = torch.argmax(output, dim=2)\n",
        "        if np.std(y_batch.cpu().numpy().flatten()) == 0:\n",
        "            roc_auc = 0\n",
        "        else:\n",
        "            roc_auc = roc_auc_score(y_batch.cpu().numpy().flatten(),\n",
        "                                    nn.Softmax(dim=1)(output)[:, :,1].detach().cpu().numpy().flatten())\n",
        "        f1_log.append(f1_score(y_batch.cpu().numpy().flatten(),\n",
        "                                  pred.cpu().numpy().flatten()))\n",
        "        roc_auc_log.append(roc_auc)\n",
        "        acc = torch.mean((pred == y_batch).float())\n",
        "        acc_log.append(acc.cpu().numpy())\n",
        "        loss = loss_func(output, y_batch)\n",
        "        loss = loss.item()\n",
        "        loss_log.append(loss)\n",
        "    return loss_log, acc_log, roc_auc_log, f1_log\n",
        "\n",
        "def plot_history(train_history, valid_history, title, BatchSize, epoch_to_show=20):\n",
        "    plt.figure(figsize=(epoch_to_show, 4))\n",
        "    plt.title(title)    \n",
        "    \n",
        "    epoch_num = len(valid_history)\n",
        "    train_history = np.array([None] * (BatchSize * epoch_to_show) + train_history)\n",
        "    valid_history = np.array([None] * epoch_to_show + valid_history)\n",
        "    \n",
        "    plt.plot(np.linspace(epoch_num-epoch_to_show+1, epoch_num+1, (epoch_to_show+1)*BatchSize), \n",
        "             train_history[-(epoch_to_show+1)*BatchSize:], c='red', label='train')\n",
        "    plt.plot(np.linspace(epoch_num-epoch_to_show+1, epoch_num+1, epoch_to_show+1),\n",
        "                valid_history[-epoch_to_show-1:], c='green', label='test')\n",
        "    \n",
        "    plt.ylim((0, 1))\n",
        "    plt.yticks(np.linspace(0, 1, 11))\n",
        "    plt.xticks(np.arange(epoch_num-epoch_to_show+1, epoch_num+2), \n",
        "              np.arange(epoch_num-epoch_to_show, epoch_num+1).astype(int))\n",
        "    plt.xlabel('train steps')\n",
        "    plt.legend(loc='best')\n",
        "    plt.grid()\n",
        "    plt.show()\n",
        "    \n",
        "def train(model, opt, n_epochs):\n",
        "    global best_auc\n",
        "    for epoch in range(n_epochs):\n",
        "        print(\"Epoch {} of {}\".format(epoch + 1, n_epochs))\n",
        "        train_loss, train_acc, train_auc, train_f1 = train_epoch(model, opt)\n",
        "        val_loss, val_acc, val_auc, val_f1 = test(model)\n",
        "        \n",
        "        BatchSize = len(train_loss)\n",
        "        \n",
        "        train_log.extend(train_loss)\n",
        "        train_acc_log.extend(train_acc)\n",
        "        train_auc_log.extend(train_auc)\n",
        "        train_f1_log.extend(train_f1)\n",
        "\n",
        "        val_log.append(np.mean(val_loss))\n",
        "        val_acc_log.append(np.mean(val_acc))\n",
        "        val_auc_log.append(np.mean(val_auc))\n",
        "        val_f1_log.append(np.mean(val_f1))\n",
        "        \n",
        "        if (epoch % 1) == 0:\n",
        "            clear_output()\n",
        "            plot_history(train_log,     val_log,     'Loss',     BatchSize)    \n",
        "            plot_history(train_acc_log, val_acc_log, 'Accuracy', BatchSize)\n",
        "            plot_history(train_auc_log, val_auc_log, 'Auc',      BatchSize)\n",
        "            plot_history(train_f1_log, val_f1_log,   'F1',       BatchSize)\n",
        "            print(\"Epoch {} AUC = {:.2%}\".format(epoch+1, val_auc_log[-1]))\n",
        "            print(\"Epoch {} accuracy = {:.2%}\".format(epoch+1, val_acc_log[-1]))\n",
        "            \n",
        "#             if val_auc_log[-1] > best_auc:\n",
        "#                 best_auc = val_auc_log[-1]\n",
        "#                 torch.save(model.state_dict(), f\"../models/{ASSEMBLY}/model_{MODEL_NUMBER}\")\n",
        "#                 log = open(f\"../models/{ASSEMBLY}/log_{MODEL_NUMBER}\", 'a')\n",
        "#                 log.write(str(best_auc) + \"\\n\")\n",
        "#                 log.close()\n",
        "            \n",
        "    print(\"Final AUC: {:.2}\".format(1 - val_auc_log[-1]))"
      ],
      "execution_count": 41,
      "outputs": []
    },
    {
      "cell_type": "code",
      "metadata": {
        "id": "_lTXDf9jaGkh"
      },
      "source": [
        "torch.cuda.empty_cache()"
      ],
      "execution_count": 42,
      "outputs": []
    },
    {
      "cell_type": "code",
      "metadata": {
        "id": "ZPAQz-MJaGki"
      },
      "source": [
        "def count_parameters(model):\n",
        "    model_parameters = filter(lambda p: p.requires_grad, model.parameters())\n",
        "    return sum([np.prod(p.size()) for p in model_parameters])"
      ],
      "execution_count": 43,
      "outputs": []
    },
    {
      "cell_type": "code",
      "metadata": {
        "colab": {
          "base_uri": "https://localhost:8080/"
        },
        "id": "gCwOTETyaGki",
        "outputId": "df069331-95fd-4e8a-8791-6b92cee2385e"
      },
      "source": [
        "model = DeepZ()\n",
        "model = model.cuda()\n",
        "print(\"Total number of trainable parameters:\", count_parameters(model))"
      ],
      "execution_count": 44,
      "outputs": [
        {
          "output_type": "stream",
          "text": [
            "Total number of trainable parameters: 805102\n"
          ],
          "name": "stdout"
        }
      ]
    },
    {
      "cell_type": "code",
      "metadata": {
        "id": "jeqUm_dBaGki"
      },
      "source": [
        "opt = torch.optim.RMSprop(model.parameters(), lr=10**-3, weight_decay=10**-3)\n",
        "train(model, opt, 30)"
      ],
      "execution_count": null,
      "outputs": []
    },
    {
      "cell_type": "code",
      "metadata": {
        "id": "oGjLtkfsaGkj"
      },
      "source": [
        ""
      ],
      "execution_count": null,
      "outputs": []
    },
    {
      "cell_type": "code",
      "metadata": {
        "id": "LUuYp_AwaGkj"
      },
      "source": [
        "class linear_DeepZ(nn.Module):\n",
        "    def __init__(self):\n",
        "        super().__init__()\n",
        "        self.seq = nn.Sequential(\n",
        "                nn.Linear(879, 2)\n",
        "        )\n",
        "    \n",
        "    def forward(self, x):\n",
        "        x = self.seq(x)\n",
        "        return F.log_softmax(x, dim=-1)"
      ],
      "execution_count": 46,
      "outputs": []
    },
    {
      "cell_type": "code",
      "metadata": {
        "colab": {
          "base_uri": "https://localhost:8080/"
        },
        "id": "qeOs3r0caGkj",
        "outputId": "181e0052-1349-45c9-c62a-448af2de7c47"
      },
      "source": [
        "model = linear_DeepZ()\n",
        "model = model.cuda()\n",
        "print(\"Total number of trainable parameters:\", count_parameters(model))"
      ],
      "execution_count": 48,
      "outputs": [
        {
          "output_type": "stream",
          "text": [
            "Total number of trainable parameters: 1760\n"
          ],
          "name": "stdout"
        }
      ]
    },
    {
      "cell_type": "code",
      "metadata": {
        "id": "BB-5F3YZaGkj"
      },
      "source": [
        "opt = torch.optim.RMSprop(model.parameters(), lr=10**-3, weight_decay=10**-3)\n",
        "train(model, opt, 30)"
      ],
      "execution_count": null,
      "outputs": []
    },
    {
      "cell_type": "code",
      "metadata": {
        "id": "zYM5I1FBaGkj"
      },
      "source": [
        ""
      ],
      "execution_count": null,
      "outputs": []
    },
    {
      "cell_type": "code",
      "metadata": {
        "id": "rzSOGFOBaGkj"
      },
      "source": [
        "weights = model.seq[0].cpu().weight.detach().numpy()"
      ],
      "execution_count": 57,
      "outputs": []
    },
    {
      "cell_type": "code",
      "metadata": {
        "id": "-1swaMAJaGkj"
      },
      "source": [
        "coef = weights[0] - weights[1]"
      ],
      "execution_count": 59,
      "outputs": []
    },
    {
      "cell_type": "code",
      "metadata": {
        "id": "qHXFONa8oO2z"
      },
      "source": [
        "feus = [\"DNA_A\", \"DNA_C\", \"DNA_T\", \"DNA_G\"] + [\"ZHUNT_AS\", \"ZHUNT_SA\", \"ZHUNT_ASd\",\"ZHUNT_SAd\"] + \\\n",
        "       train_dataset.features"
      ],
      "execution_count": 61,
      "outputs": []
    },
    {
      "cell_type": "code",
      "metadata": {
        "id": "ZWpjgrGsaGkj"
      },
      "source": [
        "smth = sorted([(j, i) for i,j in zip(feus, coef)])"
      ],
      "execution_count": 64,
      "outputs": []
    },
    {
      "cell_type": "code",
      "metadata": {
        "colab": {
          "base_uri": "https://localhost:8080/",
          "height": 607
        },
        "id": "2DIEOgZHaGkj",
        "outputId": "55e3f2f8-94aa-4f4f-9783-9aee6b1ced59"
      },
      "source": [
        "plt.figure(figsize=(8, 10))\n",
        "plt.barh(np.arange(41), [i[0] for i in smth[:20]] + [0] + [i[0] for i in smth[-20:]])\n",
        "plt.grid()\n",
        "plt.title(\"Feature importance\")\n",
        "plt.yticks(np.arange(41), \n",
        "           [i.split(\"_\")[1] \n",
        "            for i in [i[1] for i in smth[:20]] + [\"_\"] + [i[1] for i in smth[-20:]]], \n",
        "#            rotation='vertical'\n",
        "          )\n",
        "# plt.ylim(-12, 12)\n",
        "# plt.savefig('feature_importance_Z22.pdf', bbox_inches='tight')\n",
        "plt.show()"
      ],
      "execution_count": 65,
      "outputs": [
        {
          "output_type": "display_data",
          "data": {
            "image/png": "[encoded data removed]",
            "text/plain": [
              "<Figure size 576x720 with 1 Axes>"
            ]
          },
          "metadata": {
            "needs_background": "light"
          }
        }
      ]
    },
    {
      "cell_type": "code",
      "metadata": {
        "id": "hdtXHnNjaGkj"
      },
      "source": [
        ""
      ],
      "execution_count": null,
      "outputs": []
    },
    {
      "cell_type": "code",
      "metadata": {
        "id": "eMIJjEUVogeu"
      },
      "source": [
        ""
      ],
      "execution_count": null,
      "outputs": []
    },
    {
      "cell_type": "code",
      "metadata": {
        "id": "lJehGLDaoghV"
      },
      "source": [
        ""
      ],
      "execution_count": null,
      "outputs": []
    },
    {
      "cell_type": "code",
      "metadata": {
        "id": "mhkXXReHogjv"
      },
      "source": [
        ""
      ],
      "execution_count": null,
      "outputs": []
    },
    {
      "cell_type": "code",
      "metadata": {
        "id": "5M8-kxDQogmY"
      },
      "source": [
        ""
      ],
      "execution_count": null,
      "outputs": []
    }
  ]
}