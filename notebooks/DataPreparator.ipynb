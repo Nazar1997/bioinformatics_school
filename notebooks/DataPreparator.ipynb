{
 "cells": [
  {
   "cell_type": "markdown",
   "metadata": {},
   "source": [
    "# Data preparation"
   ]
  },
  {
   "cell_type": "code",
   "execution_count": null,
   "metadata": {},
   "outputs": [],
   "source": [
    "import pandas as pd\n",
    "from tqdm import tqdm_notebook, tqdm\n",
    "from collections import defaultdict\n",
    "import numpy as np\n",
    "from Sparse_vector.sparse_vector import SparseVector\n",
    "import os\n",
    "from joblib import load, dump, Parallel, delayed\n",
    "\n",
    "taget_antigen = ['DNase-seq', 'Histone', 'RNA polymerase', 'TFs and others']\n",
    "chroms = [f'chr3']"
   ]
  },
  {
   "cell_type": "code",
   "execution_count": null,
   "metadata": {},
   "outputs": [],
   "source": [
    "%%bash\n",
    "mkdir ../data/mm9_dna\n",
    "mkdir ../data/mm9_dna/raw\n",
    "mkdir ../data/mm9_dna/sparse\n",
    "cd ../data/mm9_dna/raw\n",
    "wget http://hgdownload.cse.ucsc.edu/goldenPath/mm9/chromosomes/chr3.fa.gz\n",
    "gzip -d chr3.fa.gz"
   ]
  },
  {
   "cell_type": "code",
   "execution_count": null,
   "metadata": {},
   "outputs": [],
   "source": [
    "from Bio import SeqIO\n",
    "\n",
    "for record in tqdm(SeqIO.parse(\"../data/mm9_dna/raw/chr3.fa\", \"fasta\")):\n",
    "    if record.id in chroms:\n",
    "        dump(str(record.seq.upper()), f\"../data/mm9_dna/sparse/{record.id}.pkl\", 3)"
   ]
  },
  {
   "cell_type": "markdown",
   "metadata": {},
   "source": [
    "# Sequences"
   ]
  },
  {
   "cell_type": "code",
   "execution_count": null,
   "metadata": {},
   "outputs": [],
   "source": [
    "dna = {chrom:load(f'../data/mm9_dna/sparse/{chrom}.pkl') for chrom in tqdm(chroms)}\n",
    "lens_of_chroms = {chrom: len(dna[chrom]) for chrom in dna}"
   ]
  },
  {
   "cell_type": "code",
   "execution_count": null,
   "metadata": {},
   "outputs": [],
   "source": []
  },
  {
   "cell_type": "code",
   "execution_count": null,
   "metadata": {},
   "outputs": [],
   "source": [
    "files = sorted(os.listdir('../data/mm9_features/raw/'))[::-1]\n",
    "\n",
    "def sparser(file, lens_of_chroms, chroms):\n",
    "#     print(file)\n",
    "    loc_dd = {chrom:SparseVector(lens_of_chroms[chrom]) for chrom in chroms}\n",
    "    df = pd.read_csv(f'../data/mm9_features/raw/{file}', header=None, sep='\\t')\n",
    "    for chrom, sub_df in tqdm(df.groupby(0), desc=file):\n",
    "        if chrom not in chroms:\n",
    "            continue\n",
    "        vec = np.zeros(lens_of_chroms[chrom])\n",
    "        for inter in sub_df.values:\n",
    "            vec[inter[1]:inter[2]+1] = np.maximum(vec[inter[1]:inter[2]+1], inter[4])\n",
    "        loc_dd[chrom] = SparseVector(vec)\n",
    "\n",
    "    dump(loc_dd, f'../data/mm9_features/sparse/{file[:-4]}.pkl', 3)  "
   ]
  },
  {
   "cell_type": "code",
   "execution_count": null,
   "metadata": {},
   "outputs": [],
   "source": [
    "Parallel(n_jobs = -1)(delayed(sparser)(file, lens_of_chroms, chroms) \n",
    "                                      for file in files if file.endswith('.bed'))"
   ]
  },
  {
   "cell_type": "markdown",
   "metadata": {},
   "source": [
    "# ZDNA prepare"
   ]
  },
  {
   "cell_type": "code",
   "execution_count": null,
   "metadata": {},
   "outputs": [],
   "source": [
    "def processor(file):\n",
    "    loc_dd = {chrm:SparseVector(lens_of_chroms[chrm]) for chrm in chroms}\n",
    "    df = pd.read_csv(f'../data/mm9_zdna/raw/{file}', sep='\\t', header=None)\n",
    "    for chrom, sub_df in tqdm(df.groupby(0)):\n",
    "        if chrom not in chroms:\n",
    "            continue\n",
    "        vec = np.zeros(lens_of_chroms[chrom])\n",
    "        for inter in sub_df.values:\n",
    "            vec[inter[1]:inter[2]+1] = np.maximum(vec[inter[1]:inter[2]+1], 1)\n",
    "        loc_dd[chrom] = SparseVector(vec)\n",
    "\n",
    "    dump(loc_dd, f'../data/mm9_zdna/sparse/{file[:-4]}.pkl', 3)"
   ]
  },
  {
   "cell_type": "code",
   "execution_count": null,
   "metadata": {},
   "outputs": [],
   "source": [
    "for file in os.listdir('../data/mm9_zdna/raw/'):\n",
    "    if file.startswith(\"zdna_\"):\n",
    "        processor(file)"
   ]
  },
  {
   "cell_type": "code",
   "execution_count": null,
   "metadata": {},
   "outputs": [],
   "source": [
    "loc_dd = {chrm:SparseVector(lens_of_chroms[chrm]) for chrm in chroms}\n",
    "df = pd.read_csv('../data/mm9_zdna/raw/blacklist_mm9.bed', sep='\\t', header=None, names=range(3), index_col=False)\n",
    "for chrom, sub_df in tqdm(df.groupby(0)):\n",
    "    if chrom not in chroms:\n",
    "        continue\n",
    "    vec = np.zeros(lens_of_chroms[chrom])\n",
    "    for inter in sub_df.values:\n",
    "        vec[inter[1]:inter[2]+1] = np.maximum(vec[inter[1]:inter[2]+1], 1)\n",
    "    loc_dd[chrom] = SparseVector(vec)\n",
    "dump(loc_dd, f'../data/mm9_zdna/sparse/blacklist_mm9.pkl', 3)"
   ]
  },
  {
   "cell_type": "code",
   "execution_count": null,
   "metadata": {},
   "outputs": [],
   "source": []
  },
  {
   "cell_type": "code",
   "execution_count": null,
   "metadata": {},
   "outputs": [],
   "source": []
  },
  {
   "cell_type": "code",
   "execution_count": null,
   "metadata": {},
   "outputs": [],
   "source": []
  },
  {
   "cell_type": "code",
   "execution_count": null,
   "metadata": {},
   "outputs": [],
   "source": []
  },
  {
   "cell_type": "code",
   "execution_count": null,
   "metadata": {},
   "outputs": [],
   "source": []
  },
  {
   "cell_type": "code",
   "execution_count": null,
   "metadata": {},
   "outputs": [],
   "source": []
  },
  {
   "cell_type": "code",
   "execution_count": null,
   "metadata": {},
   "outputs": [],
   "source": []
  },
  {
   "cell_type": "code",
   "execution_count": null,
   "metadata": {},
   "outputs": [],
   "source": []
  }
 ],
 "metadata": {
  "kernelspec": {
   "display_name": "Python 3",
   "language": "python",
   "name": "python3"
  },
  "language_info": {
   "codemirror_mode": {
    "name": "ipython",
    "version": 3
   },
   "file_extension": ".py",
   "mimetype": "text/x-python",
   "name": "python",
   "nbconvert_exporter": "python",
   "pygments_lexer": "ipython3",
   "version": "3.8.3"
  }
 },
 "nbformat": 4,
 "nbformat_minor": 4
}
